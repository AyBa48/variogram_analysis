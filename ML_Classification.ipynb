{
 "cells": [
  {
   "cell_type": "code",
   "execution_count": 1,
   "id": "4123545a",
   "metadata": {},
   "outputs": [],
   "source": [
    "import pandas as pd"
   ]
  },
  {
   "cell_type": "markdown",
   "id": "37cb052b",
   "metadata": {},
   "source": [
    "## Load data"
   ]
  },
  {
   "cell_type": "code",
   "execution_count": 2,
   "id": "3c3dba9f",
   "metadata": {},
   "outputs": [],
   "source": [
    "data = pd.read_excel(\"data_test.xlsx\")"
   ]
  },
  {
   "cell_type": "code",
   "execution_count": 3,
   "id": "d6bf2ab9",
   "metadata": {
    "scrolled": false
   },
   "outputs": [
    {
     "data": {
      "text/html": [
       "<div>\n",
       "<style scoped>\n",
       "    .dataframe tbody tr th:only-of-type {\n",
       "        vertical-align: middle;\n",
       "    }\n",
       "\n",
       "    .dataframe tbody tr th {\n",
       "        vertical-align: top;\n",
       "    }\n",
       "\n",
       "    .dataframe thead th {\n",
       "        text-align: right;\n",
       "    }\n",
       "</style>\n",
       "<table border=\"1\" class=\"dataframe\">\n",
       "  <thead>\n",
       "    <tr style=\"text-align: right;\">\n",
       "      <th></th>\n",
       "      <th>ID_puit_or</th>\n",
       "      <th>Pays</th>\n",
       "      <th>Localite_1</th>\n",
       "      <th>puits_AGES</th>\n",
       "      <th>Long_x_DD</th>\n",
       "      <th>Lat_y_DD</th>\n",
       "      <th>Elev_v1</th>\n",
       "      <th>GeoE_unt1</th>\n",
       "      <th>Prof_m</th>\n",
       "      <th>NS_date</th>\n",
       "      <th>...</th>\n",
       "      <th>Aq_Toit_ma</th>\n",
       "      <th>Litho_1</th>\n",
       "      <th>Strat_3</th>\n",
       "      <th>Geology_final</th>\n",
       "      <th>GeoMap_modif</th>\n",
       "      <th>Geo_Bore</th>\n",
       "      <th>SRTM_v3_30</th>\n",
       "      <th>X_utm</th>\n",
       "      <th>Y_utm</th>\n",
       "      <th>Piezo_AB</th>\n",
       "    </tr>\n",
       "  </thead>\n",
       "  <tbody>\n",
       "    <tr>\n",
       "      <th>0</th>\n",
       "      <td>K01</td>\n",
       "      <td>Bénin</td>\n",
       "      <td>Gouré Sendé 1</td>\n",
       "      <td>puits ouvert</td>\n",
       "      <td>3.49683</td>\n",
       "      <td>11.62868</td>\n",
       "      <td>222</td>\n",
       "      <td>Continental hamadien (Illo-Gundumi)</td>\n",
       "      <td>26.05</td>\n",
       "      <td>16.02.2014</td>\n",
       "      <td>...</td>\n",
       "      <td>NaN</td>\n",
       "      <td>NaN</td>\n",
       "      <td>NaN</td>\n",
       "      <td>CH</td>\n",
       "      <td>CH</td>\n",
       "      <td>NaN</td>\n",
       "      <td>222</td>\n",
       "      <td>554157.985</td>\n",
       "      <td>1285541.667</td>\n",
       "      <td>203.03</td>\n",
       "    </tr>\n",
       "    <tr>\n",
       "      <th>1</th>\n",
       "      <td>K02</td>\n",
       "      <td>Bénin</td>\n",
       "      <td>Koaratedji Sendé</td>\n",
       "      <td>forage equipé (FE)</td>\n",
       "      <td>3.49979</td>\n",
       "      <td>11.60476</td>\n",
       "      <td>213</td>\n",
       "      <td>Continental hamadien (Illo-Gundumi)</td>\n",
       "      <td>67.15</td>\n",
       "      <td>16.02.2014</td>\n",
       "      <td>...</td>\n",
       "      <td>NaN</td>\n",
       "      <td>NaN</td>\n",
       "      <td>NaN</td>\n",
       "      <td>CH</td>\n",
       "      <td>CH</td>\n",
       "      <td>NaN</td>\n",
       "      <td>213</td>\n",
       "      <td>554485.300</td>\n",
       "      <td>1282897.184</td>\n",
       "      <td>200.28</td>\n",
       "    </tr>\n",
       "    <tr>\n",
       "      <th>2</th>\n",
       "      <td>K03</td>\n",
       "      <td>Bénin</td>\n",
       "      <td>Koaratedji Centre</td>\n",
       "      <td>puits ouvert</td>\n",
       "      <td>3.47719</td>\n",
       "      <td>11.60317</td>\n",
       "      <td>266</td>\n",
       "      <td>Formation Wéré</td>\n",
       "      <td>28.65</td>\n",
       "      <td>16.02.2014</td>\n",
       "      <td>...</td>\n",
       "      <td>NaN</td>\n",
       "      <td>NaN</td>\n",
       "      <td>NaN</td>\n",
       "      <td>Kandi</td>\n",
       "      <td>Kandi</td>\n",
       "      <td>NaN</td>\n",
       "      <td>266</td>\n",
       "      <td>552021.770</td>\n",
       "      <td>1282717.139</td>\n",
       "      <td>247.02</td>\n",
       "    </tr>\n",
       "    <tr>\n",
       "      <th>3</th>\n",
       "      <td>K04</td>\n",
       "      <td>Bénin</td>\n",
       "      <td>Kassa 2</td>\n",
       "      <td>puits ouvert</td>\n",
       "      <td>3.49200</td>\n",
       "      <td>11.60319</td>\n",
       "      <td>229</td>\n",
       "      <td>Continental hamadien (Illo-Gundumi)</td>\n",
       "      <td>15.45</td>\n",
       "      <td>16.02.2014</td>\n",
       "      <td>...</td>\n",
       "      <td>NaN</td>\n",
       "      <td>NaN</td>\n",
       "      <td>NaN</td>\n",
       "      <td>CH</td>\n",
       "      <td>CH</td>\n",
       "      <td>NaN</td>\n",
       "      <td>229</td>\n",
       "      <td>553636.342</td>\n",
       "      <td>1282722.097</td>\n",
       "      <td>217.58</td>\n",
       "    </tr>\n",
       "    <tr>\n",
       "      <th>4</th>\n",
       "      <td>K05</td>\n",
       "      <td>Bénin</td>\n",
       "      <td>Kassa 1</td>\n",
       "      <td>forage equipé (FE)</td>\n",
       "      <td>3.50707</td>\n",
       "      <td>11.57905</td>\n",
       "      <td>201</td>\n",
       "      <td>Formation Kandi</td>\n",
       "      <td>NaN</td>\n",
       "      <td>16.02.2014</td>\n",
       "      <td>...</td>\n",
       "      <td>NaN</td>\n",
       "      <td>NaN</td>\n",
       "      <td>NaN</td>\n",
       "      <td>Kandi</td>\n",
       "      <td>Kandi</td>\n",
       "      <td>NaN</td>\n",
       "      <td>201</td>\n",
       "      <td>555284.014</td>\n",
       "      <td>1280055.604</td>\n",
       "      <td>NaN</td>\n",
       "    </tr>\n",
       "  </tbody>\n",
       "</table>\n",
       "<p>5 rows × 29 columns</p>\n",
       "</div>"
      ],
      "text/plain": [
       "  ID_puit_or   Pays         Localite_1          puits_AGES  Long_x_DD  \\\n",
       "0        K01  Bénin      Gouré Sendé 1        puits ouvert    3.49683   \n",
       "1        K02  Bénin   Koaratedji Sendé  forage equipé (FE)    3.49979   \n",
       "2        K03  Bénin  Koaratedji Centre        puits ouvert    3.47719   \n",
       "3        K04  Bénin            Kassa 2        puits ouvert    3.49200   \n",
       "4        K05  Bénin            Kassa 1  forage equipé (FE)    3.50707   \n",
       "\n",
       "   Lat_y_DD  Elev_v1                            GeoE_unt1  Prof_m     NS_date  \\\n",
       "0  11.62868      222  Continental hamadien (Illo-Gundumi)   26.05  16.02.2014   \n",
       "1  11.60476      213  Continental hamadien (Illo-Gundumi)   67.15  16.02.2014   \n",
       "2  11.60317      266                       Formation Wéré   28.65  16.02.2014   \n",
       "3  11.60319      229  Continental hamadien (Illo-Gundumi)   15.45  16.02.2014   \n",
       "4  11.57905      201                      Formation Kandi     NaN  16.02.2014   \n",
       "\n",
       "   ... Aq_Toit_ma  Litho_1  Strat_3 Geology_final  GeoMap_modif Geo_Bore  \\\n",
       "0  ...        NaN      NaN      NaN            CH            CH      NaN   \n",
       "1  ...        NaN      NaN      NaN            CH            CH      NaN   \n",
       "2  ...        NaN      NaN      NaN         Kandi         Kandi      NaN   \n",
       "3  ...        NaN      NaN      NaN            CH            CH      NaN   \n",
       "4  ...        NaN      NaN      NaN         Kandi         Kandi      NaN   \n",
       "\n",
       "  SRTM_v3_30       X_utm        Y_utm  Piezo_AB  \n",
       "0        222  554157.985  1285541.667    203.03  \n",
       "1        213  554485.300  1282897.184    200.28  \n",
       "2        266  552021.770  1282717.139    247.02  \n",
       "3        229  553636.342  1282722.097    217.58  \n",
       "4        201  555284.014  1280055.604       NaN  \n",
       "\n",
       "[5 rows x 29 columns]"
      ]
     },
     "execution_count": 3,
     "metadata": {},
     "output_type": "execute_result"
    }
   ],
   "source": [
    "data.head()"
   ]
  },
  {
   "cell_type": "markdown",
   "id": "1062fdbc",
   "metadata": {},
   "source": [
    "## EDA"
   ]
  },
  {
   "cell_type": "code",
   "execution_count": 4,
   "id": "1f5c4619",
   "metadata": {
    "scrolled": false
   },
   "outputs": [
    {
     "data": {
      "text/plain": [
       "Strat_3                           \n",
       "Socle                                 2300\n",
       "Sédimentaire                           439\n",
       "Grès de Kandi                          211\n",
       "CT3                                    201\n",
       "CT                                     154\n",
       "Gundumi Formation                      141\n",
       "CT2                                    139\n",
       "multiple                               100\n",
       "Quaternaire                             94\n",
       "Rima Group                              93\n",
       "Rima Group (Taloka-Wurno)               87\n",
       "CT (Gwandu)                             73\n",
       "CIH                                     49\n",
       "CH                                      47\n",
       "CT1                                     43\n",
       "Socle pénéplané                         42\n",
       "Quaternaire (alluvial)                  34\n",
       "Grès de Buem                            33\n",
       "Grès de Kandi (Wéré)                    29\n",
       "CI                                      28\n",
       "Sokoto Group                            25\n",
       "Illo Formation                          24\n",
       "Grès de Kandi (Kandi)                   23\n",
       "Grès de Kandi (sur Socle?)              23\n",
       "Socle ?                                 23\n",
       "Quaternaire (litoral)                   22\n",
       "Sokoto / Rima Group                     22\n",
       "CT2-3                                   15\n",
       "Gundumi-Illo Formation                  13\n",
       "CT (Gwandu), profonde                    9\n",
       "Grès de Kandi / CI ?                     7\n",
       "Sokoto Group (Kalambaina)                7\n",
       "CT1-2                                    6\n",
       "Sédimentaire / Socle                     6\n",
       "CT (Gwandu) profonde                     4\n",
       "Quaternaire (litoral) (sur socle?)       3\n",
       "Eze-Aku Shale                            2\n",
       "Socle (Atacorien)                        2\n",
       "CH / Quaternaire (colluvial) ?           2\n",
       "Younger Granites                         2\n",
       "Sédimentaire (sur socle)                 1\n",
       "Sokoto Group (Kalambaina) ?              1\n",
       "Awgu-eaboh                               1\n",
       "Socle (Alterite)                         1\n",
       "Rima Group (Wurno)                       1\n",
       "Rima Group (Taloka)                      1\n",
       "Lafia Sandstone                          1\n",
       "Grès de Kandi / CH                       1\n",
       "CH / Quaternaire (alluvial) ?            1\n",
       "Gundumi-Rima Formation ?                 1\n",
       "dtype: int64"
      ]
     },
     "execution_count": 4,
     "metadata": {},
     "output_type": "execute_result"
    }
   ],
   "source": [
    "data[[\"Strat_3\"]].value_counts()"
   ]
  },
  {
   "cell_type": "code",
   "execution_count": 5,
   "id": "cc0e2070",
   "metadata": {
    "scrolled": false
   },
   "outputs": [],
   "source": [
    "clean_data = data[data[\"Strat_3\"].isin([\"CT3\", \"CT2\",\"CT1\", \"Grès de Kandi\"])]"
   ]
  },
  {
   "cell_type": "code",
   "execution_count": 6,
   "id": "af09fe19",
   "metadata": {},
   "outputs": [
    {
     "data": {
      "text/html": [
       "<div>\n",
       "<style scoped>\n",
       "    .dataframe tbody tr th:only-of-type {\n",
       "        vertical-align: middle;\n",
       "    }\n",
       "\n",
       "    .dataframe tbody tr th {\n",
       "        vertical-align: top;\n",
       "    }\n",
       "\n",
       "    .dataframe thead th {\n",
       "        text-align: right;\n",
       "    }\n",
       "</style>\n",
       "<table border=\"1\" class=\"dataframe\">\n",
       "  <thead>\n",
       "    <tr style=\"text-align: right;\">\n",
       "      <th></th>\n",
       "      <th>ID_puit_or</th>\n",
       "      <th>Pays</th>\n",
       "      <th>Localite_1</th>\n",
       "      <th>puits_AGES</th>\n",
       "      <th>Long_x_DD</th>\n",
       "      <th>Lat_y_DD</th>\n",
       "      <th>Elev_v1</th>\n",
       "      <th>GeoE_unt1</th>\n",
       "      <th>Prof_m</th>\n",
       "      <th>NS_date</th>\n",
       "      <th>...</th>\n",
       "      <th>Aq_Toit_ma</th>\n",
       "      <th>Litho_1</th>\n",
       "      <th>Strat_3</th>\n",
       "      <th>Geology_final</th>\n",
       "      <th>GeoMap_modif</th>\n",
       "      <th>Geo_Bore</th>\n",
       "      <th>SRTM_v3_30</th>\n",
       "      <th>X_utm</th>\n",
       "      <th>Y_utm</th>\n",
       "      <th>Piezo_AB</th>\n",
       "    </tr>\n",
       "  </thead>\n",
       "  <tbody>\n",
       "    <tr>\n",
       "      <th>180</th>\n",
       "      <td>AGES2-Nig01-01</td>\n",
       "      <td>Niger</td>\n",
       "      <td>Kouloumbou</td>\n",
       "      <td>forage</td>\n",
       "      <td>3.31632</td>\n",
       "      <td>13.02805</td>\n",
       "      <td>246</td>\n",
       "      <td>Continental Terminal 3: Grès argileux du Moyen...</td>\n",
       "      <td>NaN</td>\n",
       "      <td>01.12.2016</td>\n",
       "      <td>...</td>\n",
       "      <td>NaN</td>\n",
       "      <td>Sédimentaire</td>\n",
       "      <td>CT2</td>\n",
       "      <td>CT2</td>\n",
       "      <td>CT3</td>\n",
       "      <td>CT2</td>\n",
       "      <td>246</td>\n",
       "      <td>534298.473</td>\n",
       "      <td>1440259.013</td>\n",
       "      <td>189.27</td>\n",
       "    </tr>\n",
       "    <tr>\n",
       "      <th>181</th>\n",
       "      <td>AGES2-Nig01-02</td>\n",
       "      <td>Niger</td>\n",
       "      <td>Goubey Dey</td>\n",
       "      <td>forage</td>\n",
       "      <td>3.86068</td>\n",
       "      <td>13.39896</td>\n",
       "      <td>266</td>\n",
       "      <td>Continental Terminal 3: Grès argileux du Moyen...</td>\n",
       "      <td>NaN</td>\n",
       "      <td>01.12.2016</td>\n",
       "      <td>...</td>\n",
       "      <td>NaN</td>\n",
       "      <td>Sédimentaire</td>\n",
       "      <td>CT2</td>\n",
       "      <td>CT2</td>\n",
       "      <td>CT3</td>\n",
       "      <td>CT2</td>\n",
       "      <td>266</td>\n",
       "      <td>593185.125</td>\n",
       "      <td>1481418.086</td>\n",
       "      <td>208.06</td>\n",
       "    </tr>\n",
       "    <tr>\n",
       "      <th>183</th>\n",
       "      <td>AGES2-Nig01-04</td>\n",
       "      <td>Niger</td>\n",
       "      <td>Tibiri Artésien</td>\n",
       "      <td>forage</td>\n",
       "      <td>4.00389</td>\n",
       "      <td>13.11206</td>\n",
       "      <td>211</td>\n",
       "      <td>Dépôts alluviaux</td>\n",
       "      <td>NaN</td>\n",
       "      <td>01.12.2016</td>\n",
       "      <td>...</td>\n",
       "      <td>NaN</td>\n",
       "      <td>Sédimentaire</td>\n",
       "      <td>CT2</td>\n",
       "      <td>CT2</td>\n",
       "      <td>Alluvial</td>\n",
       "      <td>CT2</td>\n",
       "      <td>211</td>\n",
       "      <td>608819.177</td>\n",
       "      <td>1449744.352</td>\n",
       "      <td>NaN</td>\n",
       "    </tr>\n",
       "    <tr>\n",
       "      <th>184</th>\n",
       "      <td>AGES2-Nig01-05</td>\n",
       "      <td>Niger</td>\n",
       "      <td>Angoua-Doua</td>\n",
       "      <td>forage</td>\n",
       "      <td>3.58748</td>\n",
       "      <td>12.78129</td>\n",
       "      <td>224</td>\n",
       "      <td>Continental Terminal 3: Grès argileux du Moyen...</td>\n",
       "      <td>NaN</td>\n",
       "      <td>01.12.2016</td>\n",
       "      <td>...</td>\n",
       "      <td>NaN</td>\n",
       "      <td>Sédimentaire</td>\n",
       "      <td>CT2</td>\n",
       "      <td>CT2</td>\n",
       "      <td>CT3</td>\n",
       "      <td>CT2</td>\n",
       "      <td>224</td>\n",
       "      <td>563763.471</td>\n",
       "      <td>1413021.931</td>\n",
       "      <td>NaN</td>\n",
       "    </tr>\n",
       "    <tr>\n",
       "      <th>188</th>\n",
       "      <td>AGES2-Nig01-10</td>\n",
       "      <td>Niger</td>\n",
       "      <td>Adiga Lele</td>\n",
       "      <td>forage</td>\n",
       "      <td>3.35034</td>\n",
       "      <td>12.23423</td>\n",
       "      <td>222</td>\n",
       "      <td>Continental Terminal 3: Grès argileux du Moyen...</td>\n",
       "      <td>NaN</td>\n",
       "      <td>01.12.2016</td>\n",
       "      <td>...</td>\n",
       "      <td>NaN</td>\n",
       "      <td>Sédimentaire</td>\n",
       "      <td>CT2</td>\n",
       "      <td>CT2</td>\n",
       "      <td>CT3</td>\n",
       "      <td>CT2</td>\n",
       "      <td>222</td>\n",
       "      <td>538104.667</td>\n",
       "      <td>1352479.235</td>\n",
       "      <td>192.39</td>\n",
       "    </tr>\n",
       "  </tbody>\n",
       "</table>\n",
       "<p>5 rows × 29 columns</p>\n",
       "</div>"
      ],
      "text/plain": [
       "         ID_puit_or   Pays       Localite_1 puits_AGES  Long_x_DD  Lat_y_DD  \\\n",
       "180  AGES2-Nig01-01  Niger       Kouloumbou     forage    3.31632  13.02805   \n",
       "181  AGES2-Nig01-02  Niger       Goubey Dey     forage    3.86068  13.39896   \n",
       "183  AGES2-Nig01-04  Niger  Tibiri Artésien     forage    4.00389  13.11206   \n",
       "184  AGES2-Nig01-05  Niger      Angoua-Doua     forage    3.58748  12.78129   \n",
       "188  AGES2-Nig01-10  Niger       Adiga Lele     forage    3.35034  12.23423   \n",
       "\n",
       "     Elev_v1                                          GeoE_unt1  Prof_m  \\\n",
       "180      246  Continental Terminal 3: Grès argileux du Moyen...     NaN   \n",
       "181      266  Continental Terminal 3: Grès argileux du Moyen...     NaN   \n",
       "183      211                                   Dépôts alluviaux     NaN   \n",
       "184      224  Continental Terminal 3: Grès argileux du Moyen...     NaN   \n",
       "188      222  Continental Terminal 3: Grès argileux du Moyen...     NaN   \n",
       "\n",
       "        NS_date  ... Aq_Toit_ma       Litho_1  Strat_3 Geology_final  \\\n",
       "180  01.12.2016  ...        NaN  Sédimentaire      CT2           CT2   \n",
       "181  01.12.2016  ...        NaN  Sédimentaire      CT2           CT2   \n",
       "183  01.12.2016  ...        NaN  Sédimentaire      CT2           CT2   \n",
       "184  01.12.2016  ...        NaN  Sédimentaire      CT2           CT2   \n",
       "188  01.12.2016  ...        NaN  Sédimentaire      CT2           CT2   \n",
       "\n",
       "     GeoMap_modif Geo_Bore SRTM_v3_30       X_utm        Y_utm  Piezo_AB  \n",
       "180           CT3      CT2        246  534298.473  1440259.013    189.27  \n",
       "181           CT3      CT2        266  593185.125  1481418.086    208.06  \n",
       "183      Alluvial      CT2        211  608819.177  1449744.352       NaN  \n",
       "184           CT3      CT2        224  563763.471  1413021.931       NaN  \n",
       "188           CT3      CT2        222  538104.667  1352479.235    192.39  \n",
       "\n",
       "[5 rows x 29 columns]"
      ]
     },
     "execution_count": 6,
     "metadata": {},
     "output_type": "execute_result"
    }
   ],
   "source": [
    "clean_data.head()"
   ]
  },
  {
   "cell_type": "code",
   "execution_count": 16,
   "id": "3fb5539f",
   "metadata": {},
   "outputs": [
    {
     "data": {
      "text/plain": [
       "ID_puit_or       472\n",
       "Pays             594\n",
       "Localite_1       594\n",
       "puits_AGES       330\n",
       "Long_x_DD        594\n",
       "Lat_y_DD         594\n",
       "Elev_v1          594\n",
       "GeoE_unt1        594\n",
       "Prof_m           290\n",
       "NS_date          321\n",
       "NS_date_2        481\n",
       "NS_mois          412\n",
       "NS_annee         538\n",
       "Season           594\n",
       "NS_m_calc        387\n",
       "Nappe_typ1       368\n",
       "Nappe_typ2       368\n",
       "Aq_Toit_m        352\n",
       "Aq_mur_m         232\n",
       "Aq_Toit_ma         0\n",
       "Litho_1          594\n",
       "Strat_3          594\n",
       "Geology_final    594\n",
       "GeoMap_modif     594\n",
       "Geo_Bore         594\n",
       "SRTM_v3_30       594\n",
       "X_utm            594\n",
       "Y_utm            594\n",
       "Piezo_AB         386\n",
       "dtype: int64"
      ]
     },
     "execution_count": 16,
     "metadata": {},
     "output_type": "execute_result"
    }
   ],
   "source": [
    "clean_data.count()"
   ]
  },
  {
   "cell_type": "code",
   "execution_count": 19,
   "id": "6a9f9b81",
   "metadata": {},
   "outputs": [
    {
     "data": {
      "text/plain": [
       "NS_date_2 \n",
       "pre 1970      111\n",
       "2015/2016      49\n",
       "01.01.2014     42\n",
       "01.03.2013     29\n",
       "01.12.2016     15\n",
       "             ... \n",
       "09.07.2002      1\n",
       "09.05.2011      1\n",
       "09.05.1996      1\n",
       "08.12.2018      1\n",
       "13.12.2011      1\n",
       "Length: 150, dtype: int64"
      ]
     },
     "execution_count": 19,
     "metadata": {},
     "output_type": "execute_result"
    }
   ],
   "source": [
    "clean_data[[\"NS_date_2\"]].value_counts()"
   ]
  },
  {
   "cell_type": "code",
   "execution_count": 20,
   "id": "c8f49ca2",
   "metadata": {},
   "outputs": [
    {
     "data": {
      "text/plain": [
       "NS_date   \n",
       "01.01.2014    42\n",
       "01.03.2013    29\n",
       "01.12.2016    14\n",
       "12.11.2009     5\n",
       "19.11.2016     5\n",
       "              ..\n",
       "12.05.2011     1\n",
       "12.10.2009     1\n",
       "12.11.1998     1\n",
       "13.03.1998     1\n",
       "31.12.1998     1\n",
       "Length: 175, dtype: int64"
      ]
     },
     "execution_count": 20,
     "metadata": {},
     "output_type": "execute_result"
    }
   ],
   "source": [
    "clean_data[[\"NS_date\"]].value_counts()"
   ]
  },
  {
   "cell_type": "code",
   "execution_count": 21,
   "id": "75c56fc3",
   "metadata": {},
   "outputs": [
    {
     "data": {
      "text/plain": [
       "NS_annee\n",
       "1970.0      114\n",
       "1998.0       96\n",
       "1985.0       54\n",
       "2014.0       42\n",
       "2013.0       38\n",
       "2016.0       24\n",
       "2007.0       20\n",
       "2009.0       18\n",
       "2019.0       15\n",
       "2011.0       13\n",
       "1984.0       11\n",
       "2017.0       11\n",
       "2002.0       11\n",
       "1999.0        9\n",
       "2000.0        8\n",
       "2006.0        8\n",
       "2005.0        7\n",
       "1969.0        6\n",
       "2003.0        5\n",
       "2004.0        5\n",
       "1995.0        4\n",
       "1986.0        4\n",
       "2018.0        3\n",
       "1968.0        2\n",
       "1996.0        1\n",
       "2008.0        1\n",
       "2010.0        1\n",
       "1989.0        1\n",
       "2012.0        1\n",
       "1988.0        1\n",
       "2015.0        1\n",
       "1972.0        1\n",
       "1971.0        1\n",
       "1965.0        1\n",
       "dtype: int64"
      ]
     },
     "execution_count": 21,
     "metadata": {},
     "output_type": "execute_result"
    }
   ],
   "source": [
    "clean_data[[\"NS_annee\"]].value_counts()"
   ]
  },
  {
   "cell_type": "code",
   "execution_count": 7,
   "id": "a75040b0",
   "metadata": {},
   "outputs": [
    {
     "data": {
      "text/plain": [
       "Nappe_typ1                     \n",
       "Nappe phreatique (AGES presumé)    246\n",
       "Nappe phreatique                    95\n",
       "Nappe artésienne                    11\n",
       "Nappe phréatique                     7\n",
       "Nappe profonde CT1)                  6\n",
       "Nappe phréatique (?)                 1\n",
       "Nappe profonde (CT1)                 1\n",
       "Nappe sous pression                  1\n",
       "dtype: int64"
      ]
     },
     "execution_count": 7,
     "metadata": {},
     "output_type": "execute_result"
    }
   ],
   "source": [
    "clean_data[[\"Nappe_typ1\"]].value_counts()"
   ]
  },
  {
   "cell_type": "code",
   "execution_count": 8,
   "id": "e169a3c1",
   "metadata": {},
   "outputs": [
    {
     "data": {
      "text/plain": [
       "Nappe_typ2                     \n",
       "Nappe phréatique (AGES présumé)    246\n",
       "Nappe phreatique                    95\n",
       "Nappe profonde                      18\n",
       "Nappe phréatique                     7\n",
       "Nappe phréatique (?)                 1\n",
       "Nappe sous pression                  1\n",
       "dtype: int64"
      ]
     },
     "execution_count": 8,
     "metadata": {},
     "output_type": "execute_result"
    }
   ],
   "source": [
    "clean_data[[\"Nappe_typ2\"]].value_counts()"
   ]
  },
  {
   "cell_type": "code",
   "execution_count": 9,
   "id": "0ff6ba03",
   "metadata": {},
   "outputs": [
    {
     "data": {
      "text/plain": [
       "puits_AGES                  \n",
       "forage                          202\n",
       "puits cimenté                    40\n",
       "puits tradionnel                 34\n",
       "forage equipé (FE)               27\n",
       "forage (piézomètre) profonde     12\n",
       "forage (piézomètre)               5\n",
       "puits ou forage                   3\n",
       "puits                             2\n",
       "forage / puits cimenté            1\n",
       "forage artésien                   1\n",
       "point d'eau                       1\n",
       "puits ouvert                      1\n",
       "puits tradionnel / source?        1\n",
       "dtype: int64"
      ]
     },
     "execution_count": 9,
     "metadata": {},
     "output_type": "execute_result"
    }
   ],
   "source": [
    "clean_data[[\"puits_AGES\"]].value_counts()"
   ]
  },
  {
   "cell_type": "code",
   "execution_count": 10,
   "id": "3ac2affd",
   "metadata": {},
   "outputs": [
    {
     "data": {
      "text/plain": [
       "Localite_1        \n",
       "Yeldou                10\n",
       "Waranzi                4\n",
       "Angaradebou Centre     4\n",
       "Kotchi                 4\n",
       "Guene II               3\n",
       "                      ..\n",
       "Garin-Goni             1\n",
       "Garin-Gangou           1\n",
       "Garin zangui           1\n",
       "Garin Zabarmawa        1\n",
       "zabori                 1\n",
       "Length: 484, dtype: int64"
      ]
     },
     "execution_count": 10,
     "metadata": {},
     "output_type": "execute_result"
    }
   ],
   "source": [
    "clean_data[[\"Localite_1\"]].value_counts()"
   ]
  },
  {
   "cell_type": "code",
   "execution_count": 11,
   "id": "9f05cdd0",
   "metadata": {
    "scrolled": false
   },
   "outputs": [
    {
     "data": {
      "text/plain": [
       "array([[<AxesSubplot:title={'center':'Long_x_DD'}>,\n",
       "        <AxesSubplot:title={'center':'Lat_y_DD'}>,\n",
       "        <AxesSubplot:title={'center':'Elev_v1'}>,\n",
       "        <AxesSubplot:title={'center':'Prof_m'}>],\n",
       "       [<AxesSubplot:title={'center':'NS_mois'}>,\n",
       "        <AxesSubplot:title={'center':'NS_annee'}>,\n",
       "        <AxesSubplot:title={'center':'NS_m_calc'}>,\n",
       "        <AxesSubplot:title={'center':'Aq_Toit_m'}>],\n",
       "       [<AxesSubplot:title={'center':'Aq_mur_m'}>,\n",
       "        <AxesSubplot:title={'center':'Aq_Toit_ma'}>,\n",
       "        <AxesSubplot:title={'center':'SRTM_v3_30'}>,\n",
       "        <AxesSubplot:title={'center':'X_utm'}>],\n",
       "       [<AxesSubplot:title={'center':'Y_utm'}>,\n",
       "        <AxesSubplot:title={'center':'Piezo_AB'}>, <AxesSubplot:>,\n",
       "        <AxesSubplot:>]], dtype=object)"
      ]
     },
     "execution_count": 11,
     "metadata": {},
     "output_type": "execute_result"
    },
    {
     "data": {
      "image/png": "[encoded data removed]",
      "text/plain": [
       "<Figure size 640x480 with 16 Axes>"
      ]
     },
     "metadata": {},
     "output_type": "display_data"
    }
   ],
   "source": [
    "clean_data"
   ]
  },
  {
   "cell_type": "code",
   "execution_count": null,
   "id": "e9a4b419",
   "metadata": {},
   "outputs": [],
   "source": []
  },
  {
   "cell_type": "code",
   "execution_count": null,
   "id": "1e215baf",
   "metadata": {},
   "outputs": [],
   "source": []
  }
 ],
 "metadata": {
  "kernelspec": {
   "display_name": "Python 3 (ipykernel)",
   "language": "python",
   "name": "python3"
  },
  "language_info": {
   "codemirror_mode": {
    "name": "ipython",
    "version": 3
   },
   "file_extension": ".py",
   "mimetype": "text/x-python",
   "name": "python",
   "nbconvert_exporter": "python",
   "pygments_lexer": "ipython3",
   "version": "3.9.13"
  }
 },
 "nbformat": 4,
 "nbformat_minor": 5
}
